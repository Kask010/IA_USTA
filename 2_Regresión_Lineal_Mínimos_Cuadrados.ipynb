{
  "nbformat": 4,
  "nbformat_minor": 0,
  "metadata": {
    "colab": {
      "provenance": [],
      "toc_visible": true,
      "include_colab_link": true
    },
    "kernelspec": {
      "name": "python3",
      "display_name": "Python 3"
    }
  },
  "cells": [
    {
      "cell_type": "markdown",
      "metadata": {
        "id": "view-in-github",
        "colab_type": "text"
      },
      "source": [
        "<a href=\"https://colab.research.google.com/github/Kask010/IA_USTA/blob/main/2_Regresi%C3%B3n_Lineal_M%C3%ADnimos_Cuadrados.ipynb\" target=\"_parent\"><img src=\"https://colab.research.google.com/assets/colab-badge.svg\" alt=\"Open In Colab\"/></a>"
      ]
    },
    {
      "cell_type": "markdown",
      "source": [
        "# El algoritmo detrás de los MCO"
      ],
      "metadata": {
        "id": "6mfT4A4BV-Uo"
      }
    },
    {
      "cell_type": "code",
      "metadata": {
        "id": "251sejumaIV9"
      },
      "source": [
        "import numpy as np\n",
        "import pandas as pd\n",
        "import matplotlib.pyplot as plt"
      ],
      "execution_count": 2,
      "outputs": []
    },
    {
      "cell_type": "code",
      "metadata": {
        "id": "RRiJ18uaab9Y"
      },
      "source": [
        "#Llevando nuestro algoritmo a python\n",
        "def estimar_b0_b1(x,y):\n",
        "\n",
        "    #obtenemos los promedios de X y de Y\n",
        "    m_x = np.mean(x)\n",
        "    m_y = np.mean(y)\n",
        "\n",
        "    #Calcular sumatoria de XY y mi sumatoria de XX\n",
        "    sumatoria_xy=np.sum((x-m_x )*(y-m_y))\n",
        "    sumatoria_xx=np.sum(x*(x-m_x))\n",
        "\n",
        "\n",
        "\n",
        "    #coeficientes de regresion\n",
        "    b_0=sumatoria_xy/sumatoria_xx # 'm' en la ecuación de la recta\n",
        "    b_1=m_y-b_0*m_x # 'b' en la ecuación de la recta\n",
        "\n",
        "    return(b_0,b_1)\n",
        "    # Quedaría asi: y = b_1x + b_0+\n"
      ],
      "execution_count": 11,
      "outputs": []
    },
    {
      "cell_type": "code",
      "metadata": {
        "id": "dViHihYFbIig"
      },
      "source": [
        "#Funcion de graficado\n",
        "def plot_regressio(x, y, b):\n",
        "  plt.scatter(x, y, color = 'g', marker = 'o', s = 30)\n",
        "  y_pred = b[1] + b[0]*x\n",
        "  plt.plot(x, y_pred, color = 'b')\n",
        "\n",
        "\n",
        "    #etiquetado\n",
        "\n",
        "  plt.xlabel('x-Independiente')\n",
        "  plt.ylabel('y-Dependiente')\n",
        "  plt.grid()\n",
        "\n",
        "  plt.xlim(0,9)\n",
        "  plt.ylim(1,8)\n",
        "  plt.show()"
      ],
      "execution_count": 1,
      "outputs": []
    },
    {
      "cell_type": "code",
      "metadata": {
        "id": "wHrdIVuMWSOK"
      },
      "source": [
        "# Función para predecir un valor de Y según un valor de X\n",
        "def predecir_y(x,b):\n",
        "  return b[0] * x + b[1]"
      ],
      "execution_count": 4,
      "outputs": []
    },
    {
      "cell_type": "code",
      "metadata": {
        "id": "u_0Veo1Hg4NV",
        "colab": {
          "base_uri": "https://localhost:8080/",
          "height": 524
        },
        "outputId": "9e7d1fa0-6d1d-4f05-a708-e9850036a5c1"
      },
      "source": [
        "#Codigo MAIN\n",
        "def main():\n",
        "    #DATASET\n",
        "    x=np.array([1,2,3,4,5])\n",
        "    y=np.array([2,3,5,6,5])\n",
        "\n",
        "    #Obtenemos b1 y b2\n",
        "    b = estimar_b0_b1(x,y)\n",
        "    print(f'Los valores de b0 = {b[0]} y b1= {b[1]}')\n",
        "    print(f'La ecuacion de la recta es: y = {b[0]}x + {b[1]}')\n",
        "\n",
        "    #Graficamos nuestra linea de regresion\n",
        "    plot_regressio(x,y,b)\n",
        "\n",
        "\n",
        "    # Calculamos un valor Y para X = 7\n",
        "    print(predecir_y(6,b))\n",
        "    print(predecir_y(7,b))\n",
        "\n",
        "    #Graficamos nuestra linea de regresion\n",
        "\n",
        "if __name__== \"__main__\":\n",
        "    main()\n",
        ""
      ],
      "execution_count": 15,
      "outputs": [
        {
          "output_type": "stream",
          "name": "stdout",
          "text": [
            "Los valores de b0 = 0.9 y b1= 1.5\n",
            "La ecuacion de la recta es: y = 0.9x + 1.5\n"
          ]
        },
        {
          "output_type": "display_data",
          "data": {
            "text/plain": [
              "<Figure size 640x480 with 1 Axes>"
            ],
            "image/png": "[encoded data removed]"
          },
          "metadata": {}
        },
        {
          "output_type": "stream",
          "name": "stdout",
          "text": [
            "6.9\n",
            "7.8\n"
          ]
        }
      ]
    },
    {
      "cell_type": "code",
      "metadata": {
        "id": "ej2KnMYuUYZo",
        "colab": {
          "base_uri": "https://localhost:8080/",
          "height": 490
        },
        "outputId": "c4c44940-007d-426f-f611-4ee2082d5fec"
      },
      "source": [
        "def main():\n",
        "    #DATASET\n",
        "    # ¿Qué valores de y encontramos con la ecuación de la recta si x = 6 y x = 7?\n",
        "    x=np.array([1,2,3,4,5,6,7])\n",
        "    y=np.array([2,3,5,6,5,6.9,7.8])\n",
        "    #Obtenemos b1 y b2\n",
        "    b = estimar_b0_b1(x,y)\n",
        "    print(f'Los valores de b0 = {b[0]} y b1= {b[1]}')\n",
        "    print(f'La ecuacion de la recta es: y = {b[0]}x + {b[1]}')\n",
        "    #Graficamos nuestra linea de regresion\n",
        "    plot_regressio(x,y,b)\n",
        "\n",
        "if __name__== \"__main__\":\n",
        "    main()"
      ],
      "execution_count": 16,
      "outputs": [
        {
          "output_type": "stream",
          "name": "stdout",
          "text": [
            "Los valores de b0 = 0.9000000000000001 y b1= 1.4999999999999991\n",
            "La ecuacion de la recta es: y = 0.9000000000000001x + 1.4999999999999991\n"
          ]
        },
        {
          "output_type": "display_data",
          "data": {
            "text/plain": [
              "<Figure size 640x480 with 1 Axes>"
            ],
            "image/png": "[encoded data removed]"
          },
          "metadata": {}
        }
      ]
    },
    {
      "cell_type": "markdown",
      "source": [
        "# Ejemplo de MCO con `LinearRegression` de sklearn"
      ],
      "metadata": {
        "id": "AfmuGXjkWH0u"
      }
    },
    {
      "cell_type": "markdown",
      "source": [
        "Tomado y editado de [Ordinary Least Squares Example](https://scikit-learn.org/stable/auto_examples/linear_model/plot_ols.html)\n",
        "\n",
        "Este ejemplo muestra cómo utilizar el modelo de mínimos cuadrados ordinarios (MCO) llamado `LinearRegression` en scikit-learn.\n",
        "\n",
        "Para este propósito, utilizamos una sola característica del conjunto de datos de diabetes llamado [load_diabetes](https://scikit-learn.org/stable/modules/generated/sklearn.datasets.load_diabetes.html#sklearn.datasets.load_diabetes) e intentamos predecir la progresión de la diabetes utilizando este modelo lineal. Por lo tanto, cargamos el conjunto de datos de diabetes y lo dividimos en conjuntos de entrenamiento y prueba.\n",
        "\n",
        "Luego, ajustamos el modelo en el conjunto de entrenamiento y evaluamos su rendimiento en el conjunto de prueba y, finalmente, visualizamos los resultados en el conjunto de prueba."
      ],
      "metadata": {
        "id": "v6UGXyzXWea6"
      }
    },
    {
      "cell_type": "markdown",
      "source": [
        "## Carga y preparación de datos"
      ],
      "metadata": {
        "id": "RBlBeFNcW5d6"
      }
    },
    {
      "cell_type": "markdown",
      "source": [
        "Cargamos el conjunto de datos de diabetes. Para simplificar, solo conservamos una única característica en los datos. Luego, dividimos los datos y el objetivo en conjuntos de prueba y de entrenamiento."
      ],
      "metadata": {
        "id": "1JJaAotaW4BC"
      }
    },
    {
      "cell_type": "code",
      "source": [
        "\n",
        "\n",
        " # Por defecto 'return_X_y=False'\n",
        "   # Por defecto 'as_frame=False'\n",
        "    # Por defecto 'scaled=True'"
      ],
      "metadata": {
        "id": "_mZWfzZdWXYl"
      },
      "execution_count": null,
      "outputs": []
    },
    {
      "cell_type": "code",
      "source": [],
      "metadata": {
        "id": "CmGveZGRY8gG"
      },
      "execution_count": null,
      "outputs": []
    },
    {
      "cell_type": "code",
      "source": [],
      "metadata": {
        "id": "2joMQPCZabXk"
      },
      "execution_count": null,
      "outputs": []
    },
    {
      "cell_type": "code",
      "source": [
        "# Veamos los datos escalados de X.\n"
      ],
      "metadata": {
        "id": "fBYOrALGbow4"
      },
      "execution_count": null,
      "outputs": []
    },
    {
      "cell_type": "markdown",
      "source": [
        "La columna `target` es una medida cuantitativa de la progresión de la enfermedad un año después del inicio.\n",
        "\n",
        "La descripción de las features del dataset la puedes encontrar en la [documentación oficial](https://scikit-learn.org/stable/datasets/toy_dataset.html#diabetes-dataset)."
      ],
      "metadata": {
        "id": "6IhQlsz_ZpfO"
      }
    },
    {
      "cell_type": "code",
      "source": [],
      "metadata": {
        "id": "6BImtVc6YytA"
      },
      "execution_count": null,
      "outputs": []
    },
    {
      "cell_type": "code",
      "source": [
        "# Utilizamos sólo una feautre (característica). En este caso: 'bim'\n"
      ],
      "metadata": {
        "id": "bIRWp7kkYMt2"
      },
      "execution_count": null,
      "outputs": []
    },
    {
      "cell_type": "code",
      "source": [
        "# Separamos los datos.\n"
      ],
      "metadata": {
        "id": "HyJ-fEmGazzh"
      },
      "execution_count": null,
      "outputs": []
    },
    {
      "cell_type": "markdown",
      "source": [
        "## Modelo de regresión lineal"
      ],
      "metadata": {
        "id": "fWbbwc_xXM6c"
      }
    },
    {
      "cell_type": "markdown",
      "source": [
        "Creamos un modelo de regresión lineal y lo ajustamos a los datos de entrenamiento. Tenga en cuenta que, de forma predeterminada, se agrega una intersección al modelo. Podemos controlar este comportamiento configurando el parámetro `fit_intercept`."
      ],
      "metadata": {
        "id": "BGtkt2CqXGoc"
      }
    },
    {
      "cell_type": "code",
      "source": [],
      "metadata": {
        "id": "8aL7ze7nXMfy"
      },
      "execution_count": null,
      "outputs": []
    },
    {
      "cell_type": "markdown",
      "source": [
        "## Evaluación del modelo"
      ],
      "metadata": {
        "id": "LKBekDx7XeyV"
      }
    },
    {
      "cell_type": "markdown",
      "source": [
        "Evaluamos el desempeño del modelo en el conjunto de prueba utilizando el error cuadrático medio y el coeficiente de determinación."
      ],
      "metadata": {
        "id": "uLZo9gQqXcLY"
      }
    },
    {
      "cell_type": "code",
      "source": [],
      "metadata": {
        "id": "xeRemQ6EXhp5"
      },
      "execution_count": null,
      "outputs": []
    },
    {
      "cell_type": "markdown",
      "source": [
        "## Representación gráfica de los resultados"
      ],
      "metadata": {
        "id": "MHWvY-QMXmtR"
      }
    },
    {
      "cell_type": "markdown",
      "source": [
        "Por último, visualizamos los resultados en los datos de prueba y de entrenamiento."
      ],
      "metadata": {
        "id": "IHdrPNy2XljH"
      }
    },
    {
      "cell_type": "code",
      "source": [
        "import matplotlib.pyplot as plt\n",
        "\n",
        "fig, ax = plt.subplots(ncols=2, figsize=(12, 6), sharex=True, sharey=True)\n",
        "\n",
        "ax[0].scatter(X_train, y_train, label=\"Datos de entrenamiento\")\n",
        "ax[0].plot(\n",
        "    X_train,\n",
        "    regressor.predict(X_train),\n",
        "    linewidth=3,\n",
        "    color=\"tab:orange\",\n",
        "    label=\"Predicciones del Modelo\",\n",
        ")\n",
        "ax[0].set(xlabel=\"feature bim\", ylabel=\"Columna Target\", title=\"Conjunto de entrenamiento\")\n",
        "ax[0].legend()\n",
        "\n",
        "ax[1].scatter(X_test, y_test, label=\"Datos de prueba\")\n",
        "ax[1].plot(X_test, y_pred, linewidth=3, color=\"tab:orange\", label=\"Predicciones del Modelo\")\n",
        "ax[1].set(xlabel=\"feature bim\", ylabel=\"Columna Target\", title=\"Test set\")\n",
        "ax[1].legend()\n",
        "\n",
        "fig.suptitle(\"Regresión Lineal\")\n",
        "\n",
        "plt.show()"
      ],
      "metadata": {
        "id": "f6AncCflXyJ0"
      },
      "execution_count": null,
      "outputs": []
    },
    {
      "cell_type": "markdown",
      "source": [
        "## Conclusiones"
      ],
      "metadata": {
        "id": "JRJd4HBjXwZb"
      }
    },
    {
      "cell_type": "markdown",
      "source": [
        "* El modelo entrenado corresponde al estimador que minimiza el error cuadrático medio entre los valores predichos y los valores objetivo reales en los datos de entrenamiento. Por lo tanto, obtenemos un estimador de la media condicional del objetivo dados los datos.\n",
        "\n",
        "* Tenga en cuenta que en dimensiones superiores, minimizar solo el error cuadrático puede provocar un sobreajuste. Por lo tanto, se utilizan técnicas de regularización para evitar este problema, como las implementadas en Ridge o Lasso."
      ],
      "metadata": {
        "id": "WsBBR6_RXt3a"
      }
    }
  ]
}